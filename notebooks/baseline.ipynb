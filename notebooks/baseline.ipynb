{
 "cells": [
  {
   "cell_type": "code",
   "execution_count": 73,
   "id": "9c1f55fb",
   "metadata": {},
   "outputs": [
    {
     "name": "stdout",
     "output_type": "stream",
     "text": [
      "  Emotion  Score                                              Tweet\n",
      "0   anger  0.562  @xandraaa5 @amayaallyn6 shut up hashtags are c...\n",
      "1   anger  0.750  it makes me so fucking irate jesus. nobody is ...\n",
      "2   anger  0.417         Lol Adam the Bull with his fake outrage...\n",
      "3   anger  0.354  @THATSSHAWTYLO passed away early this morning ...\n",
      "4   anger  0.438  @Kristiann1125 lol wow i was gonna say really?...\n"
     ]
    }
   ],
   "source": [
    "#Get Original DataFrame\n",
    "import pandas as pd\n",
    "\n",
    "df = pd.read_json(\"../data/emotion_dataset.json\", orient=\"records\", lines=True)\n",
    "\n",
    "print(df.head())"
   ]
  },
  {
   "cell_type": "code",
   "execution_count": 74,
   "id": "32530476",
   "metadata": {},
   "outputs": [
    {
     "name": "stdout",
     "output_type": "stream",
     "text": [
      "                                               Tweet Emotion  Score\n",
      "0      user user shut up hashtags are cool #offended   anger  0.562\n",
      "1  it makes me so fucking irate jesus. nobody is ...   anger  0.750\n",
      "2         lol adam the bull with his fake outrage...   anger  0.417\n",
      "3  user passed away early this morning in a fast ...   anger  0.354\n",
      "4  user lol wow i was gonna say really?! haha hav...   anger  0.438\n"
     ]
    }
   ],
   "source": [
    "#Preprocessing\n",
    "import re\n",
    "\n",
    "def preprocess(text):\n",
    "    text = text.lower()  # Lowercase\n",
    "    text = re.sub(r'@\\w+', 'user', text)\n",
    "    return text.strip()\n",
    "\n",
    "df_preprocessed = df[['Tweet', 'Emotion', 'Score']].copy()\n",
    "df_preprocessed['Tweet'] = df['Tweet'].apply(preprocess)\n",
    "print(df_preprocessed.head())\n"
   ]
  },
  {
   "cell_type": "code",
   "execution_count": 75,
   "id": "58d04bb4",
   "metadata": {},
   "outputs": [
    {
     "name": "stdout",
     "output_type": "stream",
     "text": [
      "              precision    recall  f1-score   support\n",
      "\n",
      "       anger       0.71      0.69      0.70       639\n",
      "        fear       0.67      0.76      0.71       724\n",
      "         joy       0.86      0.80      0.83       587\n",
      "     sadness       0.66      0.62      0.64       577\n",
      "\n",
      "    accuracy                           0.72      2527\n",
      "   macro avg       0.72      0.72      0.72      2527\n",
      "weighted avg       0.72      0.72      0.72      2527\n",
      "\n"
     ]
    }
   ],
   "source": [
    "# Vectorize, Train, Predict and Test for Logistic Regression (with TF-IDF)\n",
    "from sklearn.linear_model import LogisticRegression\n",
    "from sklearn.metrics import classification_report\n",
    "from sklearn.model_selection import train_test_split\n",
    "from sklearn.feature_extraction.text import TfidfVectorizer\n",
    "\n",
    "# Split\n",
    "X_train, X_test, y_train, y_test = train_test_split(df_preprocessed['Tweet'], df_preprocessed['Emotion'], test_size=0.2, random_state=42)\n",
    "\n",
    "# Vectorize\n",
    "vectorizer = TfidfVectorizer()\n",
    "X_train_vec = vectorizer.fit_transform(X_train)\n",
    "X_test_vec = vectorizer.transform(X_test)\n",
    "\n",
    "# Train\n",
    "regression = LogisticRegression(max_iter=1000)\n",
    "regression.fit(X_train_vec, y_train)\n",
    "\n",
    "# Evaluate\n",
    "y_pred = regression.predict(X_test_vec)\n",
    "print(classification_report(y_test, y_pred))"
   ]
  },
  {
   "cell_type": "code",
   "execution_count": 76,
   "id": "90823f42",
   "metadata": {},
   "outputs": [],
   "source": [
    "# Load Glove and Vectorize Tweet and Emotion\n",
    "\n",
    "import numpy as np\n",
    "from sklearn.preprocessing import OneHotEncoder\n",
    "from scipy.sparse import hstack\n",
    "from scipy import sparse\n",
    "from sklearn.model_selection import train_test_split\n",
    "\n",
    "def load_glove(path):\n",
    "    emb = {}\n",
    "    with open(path, encoding='utf8') as f:\n",
    "        for line in f:\n",
    "            parts = line.split()\n",
    "            word, vec = parts[0], np.array(parts[1:], dtype=float)\n",
    "            emb[word] = vec\n",
    "    return emb\n",
    "\n",
    "glove = load_glove(\"../data/glove.6B.100d.txt\")\n",
    "\n",
    "# Turn each tweet into GloVe vector\n",
    "def tweet_to_vec(tweet, embeddings, dim=100):\n",
    "    words = tweet.split()\n",
    "    vecs = [embeddings[w] for w in words if w in embeddings]\n",
    "    if vecs:\n",
    "        return np.mean(vecs, axis=0)\n",
    "    else:\n",
    "        return np.zeros(dim)\n",
    "\n",
    "X_glove = np.vstack(df_preprocessed['Tweet'].apply(lambda t: tweet_to_vec(t, glove)))\n",
    "\n",
    "# One-hot encode Emotion\n",
    "ohe = OneHotEncoder()\n",
    "one_hot_encoder_em = ohe.fit_transform(df_preprocessed[['Emotion']])"
   ]
  },
  {
   "cell_type": "code",
   "execution_count": 77,
   "id": "d9b17f0a",
   "metadata": {},
   "outputs": [
    {
     "name": "stdout",
     "output_type": "stream",
     "text": [
      "MSE: 0.0330991314415823\n",
      "R² : 0.07760563083657324\n"
     ]
    }
   ],
   "source": [
    "#Fit, predict and test for Linear Regression\n",
    "\n",
    "from sklearn.linear_model import LinearRegression\n",
    "from sklearn.metrics import mean_squared_error, r2_score\n",
    "from scipy.sparse import hstack\n",
    "from scipy import sparse\n",
    "\n",
    "# Combine GloVe with one-hot\n",
    "X_glove_sparse = sparse.csr_matrix(X_glove)\n",
    "X_feat = hstack([X_glove_sparse, one_hot_encoder_em])\n",
    "\n",
    "y = df_preprocessed['Score']\n",
    "\n",
    "# Train/Test split\n",
    "X_train, X_test, y_train, y_test = train_test_split(X_feat, y, test_size=0.2, random_state=42)\n",
    "\n",
    "# Train and evaluate\n",
    "reg = LinearRegression()\n",
    "reg.fit(X_train, y_train)\n",
    "y_pred = reg.predict(X_test)\n",
    "\n",
    "print(\"MSE:\", mean_squared_error(y_test, y_pred))\n",
    "print(\"R² :\", r2_score(y_test, y_pred))"
   ]
  }
 ],
 "metadata": {
  "kernelspec": {
   "display_name": "Applied-ML-Template-tgvsUKk6",
   "language": "python",
   "name": "python3"
  },
  "language_info": {
   "codemirror_mode": {
    "name": "ipython",
    "version": 3
   },
   "file_extension": ".py",
   "mimetype": "text/x-python",
   "name": "python",
   "nbconvert_exporter": "python",
   "pygments_lexer": "ipython3",
   "version": "3.11.5"
  }
 },
 "nbformat": 4,
 "nbformat_minor": 5
}
