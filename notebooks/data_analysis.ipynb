{
 "cells": [
  {
   "metadata": {
    "ExecuteTime": {
     "end_time": "2025-04-29T10:51:29.650368Z",
     "start_time": "2025-04-29T10:51:29.560571Z"
    }
   },
   "cell_type": "code",
   "source": "",
   "id": "38db7817669f91a5",
   "outputs": [
    {
     "name": "stdout",
     "output_type": "stream",
     "text": [
      "Skipping, found downloaded files in \"../data\\compass\" (use force=True to force download)\n"
     ]
    }
   ],
   "execution_count": 11
  },
  {
   "metadata": {
    "ExecuteTime": {
     "end_time": "2025-04-29T12:25:34.691427Z",
     "start_time": "2025-04-29T12:25:28.318514Z"
    }
   },
   "cell_type": "code",
   "source": [
    "df_raw_scores = pd.read_csv(path + \"/compass/compas-scores-raw.csv\")\n",
    "df_violent_parsed = pd.read_csv(path + \"/compass/cox-violent-parsed.csv\")\n",
    "df_violent_filtered = pd.read_csv(path + \"/compass/cox-violent-parsed_filt.csv\")\n",
    "\n",
    "\n",
    "# Show the first few rows\n",
    "print(df_raw_scores.head())\n",
    "print(df_violent_parsed.head())\n",
    "print(df_violent_parsed.head())"
   ],
   "id": "189c9559ca6140cc",
   "outputs": [
    {
     "name": "stdout",
     "output_type": "stream",
     "text": [
      "   Person_ID  AssessmentID  Case_ID Agency_Text LastName FirstName MiddleName  \\\n",
      "0      50844         57167    51950    PRETRIAL   Fisher     Kevin        NaN   \n",
      "1      50844         57167    51950    PRETRIAL   Fisher     Kevin        NaN   \n",
      "2      50844         57167    51950    PRETRIAL   Fisher     Kevin        NaN   \n",
      "3      50848         57174    51956    PRETRIAL  KENDALL     KEVIN        NaN   \n",
      "4      50848         57174    51956    PRETRIAL  KENDALL     KEVIN        NaN   \n",
      "\n",
      "  Sex_Code_Text Ethnic_Code_Text DateOfBirth  ...  RecSupervisionLevel  \\\n",
      "0          Male        Caucasian    12/05/92  ...                    1   \n",
      "1          Male        Caucasian    12/05/92  ...                    1   \n",
      "2          Male        Caucasian    12/05/92  ...                    1   \n",
      "3          Male        Caucasian    09/16/84  ...                    1   \n",
      "4          Male        Caucasian    09/16/84  ...                    1   \n",
      "\n",
      "  RecSupervisionLevelText Scale_ID                DisplayText RawScore  \\\n",
      "0                     Low        7           Risk of Violence    -2.08   \n",
      "1                     Low        8         Risk of Recidivism    -1.06   \n",
      "2                     Low       18  Risk of Failure to Appear    15.00   \n",
      "3                     Low        7           Risk of Violence    -2.84   \n",
      "4                     Low        8         Risk of Recidivism    -1.50   \n",
      "\n",
      "  DecileScore ScoreText AssessmentType  IsCompleted IsDeleted  \n",
      "0           4       Low            New            1         0  \n",
      "1           2       Low            New            1         0  \n",
      "2           1       Low            New            1         0  \n",
      "3           2       Low            New            1         0  \n",
      "4           1       Low            New            1         0  \n",
      "\n",
      "[5 rows x 28 columns]\n",
      "    id              name    first       last compas_screening_date   sex  \\\n",
      "0  1.0  miguel hernandez   miguel  hernandez            14/08/2013  Male   \n",
      "1  2.0  miguel hernandez   miguel  hernandez            14/08/2013  Male   \n",
      "2  3.0      michael ryan  michael       ryan            31/12/2014  Male   \n",
      "3  4.0       kevon dixon    kevon      dixon            27/01/2013  Male   \n",
      "4  5.0          ed philo       ed      philo            14/04/2013  Male   \n",
      "\n",
      "          dob  age          age_cat              race  ...  \\\n",
      "0  18/04/1947   69  Greater than 45             Other  ...   \n",
      "1  18/04/1947   69  Greater than 45             Other  ...   \n",
      "2  06/02/1985   31          25 - 45         Caucasian  ...   \n",
      "3  22/01/1982   34          25 - 45  African-American  ...   \n",
      "4  14/05/1991   24     Less than 25  African-American  ...   \n",
      "\n",
      "   v_type_of_assessment  v_decile_score  v_score_text  v_screening_date  \\\n",
      "0      Risk of Violence               1           Low        14/08/2013   \n",
      "1      Risk of Violence               1           Low        14/08/2013   \n",
      "2      Risk of Violence               2           Low        31/12/2014   \n",
      "3      Risk of Violence               1           Low        27/01/2013   \n",
      "4      Risk of Violence               3           Low        14/04/2013   \n",
      "\n",
      "   in_custody  out_custody priors_count.1 start  end event  \n",
      "0  07/07/2014   14/07/2014              0     0  327     0  \n",
      "1  07/07/2014   14/07/2014              0   334  961     0  \n",
      "2  30/12/2014   03/01/2015              0     3  457     0  \n",
      "3  26/01/2013   05/02/2013              0     9  159     1  \n",
      "4  16/06/2013   16/06/2013              4     0   63     0  \n",
      "\n",
      "[5 rows x 52 columns]\n",
      "    id              name    first       last compas_screening_date   sex  \\\n",
      "0  1.0  miguel hernandez   miguel  hernandez            14/08/2013  Male   \n",
      "1  2.0  miguel hernandez   miguel  hernandez            14/08/2013  Male   \n",
      "2  3.0      michael ryan  michael       ryan            31/12/2014  Male   \n",
      "3  4.0       kevon dixon    kevon      dixon            27/01/2013  Male   \n",
      "4  5.0          ed philo       ed      philo            14/04/2013  Male   \n",
      "\n",
      "          dob  age          age_cat              race  ...  \\\n",
      "0  18/04/1947   69  Greater than 45             Other  ...   \n",
      "1  18/04/1947   69  Greater than 45             Other  ...   \n",
      "2  06/02/1985   31          25 - 45         Caucasian  ...   \n",
      "3  22/01/1982   34          25 - 45  African-American  ...   \n",
      "4  14/05/1991   24     Less than 25  African-American  ...   \n",
      "\n",
      "   v_type_of_assessment  v_decile_score  v_score_text  v_screening_date  \\\n",
      "0      Risk of Violence               1           Low        14/08/2013   \n",
      "1      Risk of Violence               1           Low        14/08/2013   \n",
      "2      Risk of Violence               2           Low        31/12/2014   \n",
      "3      Risk of Violence               1           Low        27/01/2013   \n",
      "4      Risk of Violence               3           Low        14/04/2013   \n",
      "\n",
      "   in_custody  out_custody priors_count.1 start  end event  \n",
      "0  07/07/2014   14/07/2014              0     0  327     0  \n",
      "1  07/07/2014   14/07/2014              0   334  961     0  \n",
      "2  30/12/2014   03/01/2015              0     3  457     0  \n",
      "3  26/01/2013   05/02/2013              0     9  159     1  \n",
      "4  16/06/2013   16/06/2013              4     0   63     0  \n",
      "\n",
      "[5 rows x 52 columns]\n"
     ]
    }
   ],
   "execution_count": 16
  }
 ],
 "metadata": {
  "kernelspec": {
   "display_name": "Python 3",
   "language": "python",
   "name": "python3"
  },
  "language_info": {
   "codemirror_mode": {
    "name": "ipython",
    "version": 2
   },
   "file_extension": ".py",
   "mimetype": "text/x-python",
   "name": "python",
   "nbconvert_exporter": "python",
   "pygments_lexer": "ipython2",
   "version": "2.7.6"
  }
 },
 "nbformat": 4,
 "nbformat_minor": 5
}
