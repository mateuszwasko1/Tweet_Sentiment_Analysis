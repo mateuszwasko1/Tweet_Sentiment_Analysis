{
 "cells": [
  {
   "metadata": {
    "ExecuteTime": {
     "end_time": "2025-04-29T10:51:29.650368Z",
     "start_time": "2025-04-29T10:51:29.560571Z"
    }
   },
   "cell_type": "code",
   "source": [
    "import opendatasets as od\n",
    "import pandas as pd\n",
    "\n",
    "path = \"../data\"\n",
    "#This downloads the dataset from kaggle using the API keys in the kaggle.json files\n",
    "od.download(\"https://www.kaggle.com/datasets/danofer/compass\", data_dir=path)"
   ],
   "id": "38db7817669f91a5",
   "outputs": [
    {
     "name": "stdout",
     "output_type": "stream",
     "text": [
      "Skipping, found downloaded files in \"../data\\compass\" (use force=True to force download)\n"
     ]
    }
   ],
   "execution_count": 11
  },
  {
   "metadata": {
    "ExecuteTime": {
     "end_time": "2025-04-29T10:52:54.094748Z",
     "start_time": "2025-04-29T10:52:50.413814Z"
    }
   },
   "cell_type": "code",
   "source": [
    "df = pd.read_csv(path + \"/compass/compas-scores-raw.csv\")\n",
    "\n",
    "# Show the first few rows\n",
    "print(df.head())"
   ],
   "id": "189c9559ca6140cc",
   "outputs": [
    {
     "name": "stdout",
     "output_type": "stream",
     "text": [
      "   Person_ID  AssessmentID  Case_ID Agency_Text LastName FirstName MiddleName  \\\n",
      "0      50844         57167    51950    PRETRIAL   Fisher     Kevin        NaN   \n",
      "1      50844         57167    51950    PRETRIAL   Fisher     Kevin        NaN   \n",
      "2      50844         57167    51950    PRETRIAL   Fisher     Kevin        NaN   \n",
      "3      50848         57174    51956    PRETRIAL  KENDALL     KEVIN        NaN   \n",
      "4      50848         57174    51956    PRETRIAL  KENDALL     KEVIN        NaN   \n",
      "\n",
      "  Sex_Code_Text Ethnic_Code_Text DateOfBirth  ...  RecSupervisionLevel  \\\n",
      "0          Male        Caucasian    12/05/92  ...                    1   \n",
      "1          Male        Caucasian    12/05/92  ...                    1   \n",
      "2          Male        Caucasian    12/05/92  ...                    1   \n",
      "3          Male        Caucasian    09/16/84  ...                    1   \n",
      "4          Male        Caucasian    09/16/84  ...                    1   \n",
      "\n",
      "  RecSupervisionLevelText Scale_ID                DisplayText RawScore  \\\n",
      "0                     Low        7           Risk of Violence    -2.08   \n",
      "1                     Low        8         Risk of Recidivism    -1.06   \n",
      "2                     Low       18  Risk of Failure to Appear    15.00   \n",
      "3                     Low        7           Risk of Violence    -2.84   \n",
      "4                     Low        8         Risk of Recidivism    -1.50   \n",
      "\n",
      "  DecileScore ScoreText AssessmentType  IsCompleted IsDeleted  \n",
      "0           4       Low            New            1         0  \n",
      "1           2       Low            New            1         0  \n",
      "2           1       Low            New            1         0  \n",
      "3           2       Low            New            1         0  \n",
      "4           1       Low            New            1         0  \n",
      "\n",
      "[5 rows x 28 columns]\n"
     ]
    }
   ],
   "execution_count": 14
  }
 ],
 "metadata": {
  "kernelspec": {
   "display_name": "Python 3",
   "language": "python",
   "name": "python3"
  },
  "language_info": {
   "codemirror_mode": {
    "name": "ipython",
    "version": 2
   },
   "file_extension": ".py",
   "mimetype": "text/x-python",
   "name": "python",
   "nbconvert_exporter": "python",
   "pygments_lexer": "ipython2",
   "version": "2.7.6"
  }
 },
 "nbformat": 4,
 "nbformat_minor": 5
}
